{
 "cells": [
  {
   "cell_type": "markdown",
   "metadata": {},
   "source": [
    "# Dataset Playground"
   ]
  },
  {
   "cell_type": "markdown",
   "metadata": {},
   "source": [
    "## Imports"
   ]
  },
  {
   "cell_type": "code",
   "execution_count": null,
   "metadata": {},
   "outputs": [],
   "source": [
    "import numpy as np\n",
    "import pandas as pd\n",
    "import matplotlib.pyplot as plt\n",
    "from matplotlib.axes import Axes\n",
    "import numpy.typing as npt\n",
    "from typing import List, Union"
   ]
  },
  {
   "cell_type": "markdown",
   "metadata": {},
   "source": [
    "## Load the data"
   ]
  },
  {
   "cell_type": "code",
   "execution_count": null,
   "metadata": {},
   "outputs": [],
   "source": [
    "health_df = pd.read_csv(\"data/heath_nutrition_data.csv\")\n",
    "health_df.head()\n"
   ]
  },
  {
   "cell_type": "markdown",
   "metadata": {},
   "source": [
    "## Sorting data"
   ]
  },
  {
   "cell_type": "code",
   "execution_count": null,
   "metadata": {},
   "outputs": [],
   "source": [
    "indicators_df = health_df.groupby(['Indicator Name']).sum(numeric_only=True).sort_values(\"1960\")\n",
    "hiv_by_year_df = indicators_df.T.iloc[15:]\n",
    "\n",
    "hiv_by_year_df.head(10)\n"
   ]
  },
  {
   "cell_type": "markdown",
   "metadata": {},
   "source": [
    "### Filtered list"
   ]
  },
  {
   "cell_type": "code",
   "execution_count": null,
   "metadata": {},
   "outputs": [],
   "source": [
    "filtered_hiv_by_year_df = hiv_by_year_df[[\"% of males ages 15-49 having comprehensive correct knowledge about HIV (2 prevent ways and reject 3 misconceptions)\",\n",
    "    \"Literacy rate, adult male (% of males ages 15 and above)\",\n",
    "    \"Urban population\",\n",
    "    \"Rural population\"\n",
    "    \n",
    "    \n",
    "                 ]]\n",
    "filtered_hiv_by_year_df.drop(\"Unnamed: 60\", inplace=True)"
   ]
  },
  {
   "cell_type": "markdown",
   "metadata": {},
   "source": [
    "### Line Graph"
   ]
  },
  {
   "cell_type": "markdown",
   "metadata": {},
   "source": [
    "#### Graph function"
   ]
  },
  {
   "cell_type": "code",
   "execution_count": null,
   "metadata": {},
   "outputs": [],
   "source": [
    "def create_bar_chart(dataframe: pd.DataFrame):\n",
    "    axs:   List[Axes]\n",
    "\n",
    "    fig, axs = plt.subplots(dataframe.columns.size)\n",
    "\n",
    "    for idx,cal in enumerate(dataframe.columns):\n",
    "      axs[idx].bar(dataframe.index,\n",
    "                 dataframe[dataframe.columns[idx]]\n",
    "                   )\n",
    "      axs[idx].set_title(cal)\n",
    "      \n",
    "      \n",
    "    fig.set_size_inches(12,6)\n",
    "    fig.tight_layout()\n",
    "    \n",
    "    \n",
    "def create_heat_chart(dataframe: pd.DataFrame):\n",
    "    axs:   List[Axes]\n",
    "\n",
    "    fig, axs = plt.subplots(dataframe.columns.size)\n",
    "\n",
    "    for idx,cal in enumerate(dataframe.columns):\n",
    "      axs[idx].bar(dataframe.index,\n",
    "                 dataframe[dataframe.columns[idx]]\n",
    "                   )\n",
    "      axs[idx].set_title(cal)\n",
    "      \n",
    "      \n",
    "    fig.set_size_inches(12,6)\n",
    "    fig.tight_layout()"
   ]
  },
  {
   "cell_type": "code",
   "execution_count": null,
   "metadata": {},
   "outputs": [],
   "source": [
    "[filtered_hiv_by_year_df[col] for col in filtered_hiv_by_year_df.columns]"
   ]
  },
  {
   "cell_type": "code",
   "execution_count": null,
   "metadata": {},
   "outputs": [],
   "source": [
    "create_bar_chart(filtered_hiv_by_year_df)"
   ]
  }
 ],
 "metadata": {
  "kernelspec": {
   "display_name": "base",
   "language": "python",
   "name": "python3"
  },
  "language_info": {
   "codemirror_mode": {
    "name": "ipython",
    "version": 3
   },
   "file_extension": ".py",
   "mimetype": "text/x-python",
   "name": "python",
   "nbconvert_exporter": "python",
   "pygments_lexer": "ipython3",
   "version": "3.11.7"
  }
 },
 "nbformat": 4,
 "nbformat_minor": 2
}
